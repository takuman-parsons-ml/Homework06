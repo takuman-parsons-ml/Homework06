{
 "cells": [
  {
   "cell_type": "markdown",
   "metadata": {
    "id": "QshK8s21WBrf"
   },
   "source": [
    "# Homework06\n",
    "\n",
    "Exercises to practice pandas, data analysis and regression\n",
    "\n",
    "## Goals\n",
    "\n",
    "- Understand the effects of pre-processing data\n",
    "- Get familiar with the ML flow: encode -> normalize -> train -> evaluate\n",
    "- Understand the difference between regression and classification tasks\n",
    "- Build an intuition for different regression models"
   ]
  },
  {
   "cell_type": "markdown",
   "metadata": {
    "id": "7Hf8SXUwWOho"
   },
   "source": [
    "### Setup\n",
    "\n",
    "Run the following 2 cells to import all necessary libraries and helpers for this homework."
   ]
  },
  {
   "cell_type": "code",
   "execution_count": 59,
   "metadata": {},
   "outputs": [],
   "source": [
    "!wget -q https://github.com/PSAM-5020-2025S-A/5020-utils/raw/main/src/data_utils.py"
   ]
  },
  {
   "cell_type": "code",
   "execution_count": 60,
   "metadata": {},
   "outputs": [],
   "source": [
    "import matplotlib.pyplot as plt\n",
    "import pandas as pd\n",
    "\n",
    "from sklearn.preprocessing import OrdinalEncoder\n",
    "\n",
    "from data_utils import object_from_json_url\n",
    "from data_utils import StandardScaler\n",
    "from data_utils import LinearRegression, SGDRegressor\n",
    "from data_utils import regression_error"
   ]
  },
  {
   "cell_type": "markdown",
   "metadata": {},
   "source": [
    "### Load Dataset\n",
    "\n",
    "Let's load up the full [ANSUR](https://www.openlab.psu.edu/ansur2/) dataset that we looked at briefly in [Week 02](https://github.com/DM-GY-9103-2024F-H/WK02).\n",
    "\n",
    "This is the dataset that has anthropometric information about U.S. Army personnel."
   ]
  },
  {
   "cell_type": "code",
   "execution_count": 61,
   "metadata": {},
   "outputs": [
    {
     "data": {
      "text/plain": [
       "[{'age': 18,\n",
       "  'gender': 'F',\n",
       "  'height': 66,\n",
       "  'weight': 135,\n",
       "  'span': 1699,\n",
       "  'stature': 1645,\n",
       "  'ear': {'breadth': 30, 'length': 61, 'protrusion': 20},\n",
       "  'foot': {'breadth': 97, 'length': 243},\n",
       "  'hand': {'breadth': 78, 'length': 182, 'palm': 108},\n",
       "  'head': {'height': 243, 'circumference': 557}},\n",
       " {'age': 30,\n",
       "  'gender': 'M',\n",
       "  'height': 68,\n",
       "  'weight': 207,\n",
       "  'span': 1749,\n",
       "  'stature': 1715,\n",
       "  'ear': {'breadth': 35, 'length': 63, 'protrusion': 17},\n",
       "  'foot': {'breadth': 100, 'length': 252},\n",
       "  'hand': {'breadth': 87, 'length': 184, 'palm': 114},\n",
       "  'head': {'height': 238, 'circumference': 560}}]"
      ]
     },
     "execution_count": 61,
     "metadata": {},
     "output_type": "execute_result"
    }
   ],
   "source": [
    "# Load Dataset\n",
    "ANSUR_FILE = \"https://raw.githubusercontent.com/PSAM-5020-2025S-A/5020-utils/main/datasets/json/ansur.json\"\n",
    "ansur_data = object_from_json_url(ANSUR_FILE)\n",
    "\n",
    "# Look at first 2 records\n",
    "ansur_data[:2]"
   ]
  },
  {
   "cell_type": "markdown",
   "metadata": {},
   "source": [
    "#### Nested data\n",
    "\n",
    "This is that *nested* dataset from Week 02.\n",
    "\n",
    "# 🤔\n",
    "\n",
    "Let's load it into a `DataFrame` to see what happens."
   ]
  },
  {
   "cell_type": "code",
   "execution_count": 62,
   "metadata": {},
   "outputs": [
    {
     "data": {
      "text/html": [
       "<div>\n",
       "<style scoped>\n",
       "    .dataframe tbody tr th:only-of-type {\n",
       "        vertical-align: middle;\n",
       "    }\n",
       "\n",
       "    .dataframe tbody tr th {\n",
       "        vertical-align: top;\n",
       "    }\n",
       "\n",
       "    .dataframe thead th {\n",
       "        text-align: right;\n",
       "    }\n",
       "</style>\n",
       "<table border=\"1\" class=\"dataframe\">\n",
       "  <thead>\n",
       "    <tr style=\"text-align: right;\">\n",
       "      <th></th>\n",
       "      <th>age</th>\n",
       "      <th>gender</th>\n",
       "      <th>height</th>\n",
       "      <th>weight</th>\n",
       "      <th>span</th>\n",
       "      <th>stature</th>\n",
       "      <th>ear</th>\n",
       "      <th>foot</th>\n",
       "      <th>hand</th>\n",
       "      <th>head</th>\n",
       "    </tr>\n",
       "  </thead>\n",
       "  <tbody>\n",
       "    <tr>\n",
       "      <th>0</th>\n",
       "      <td>18</td>\n",
       "      <td>F</td>\n",
       "      <td>66</td>\n",
       "      <td>135</td>\n",
       "      <td>1699</td>\n",
       "      <td>1645</td>\n",
       "      <td>{'breadth': 30, 'length': 61, 'protrusion': 20}</td>\n",
       "      <td>{'breadth': 97, 'length': 243}</td>\n",
       "      <td>{'breadth': 78, 'length': 182, 'palm': 108}</td>\n",
       "      <td>{'height': 243, 'circumference': 557}</td>\n",
       "    </tr>\n",
       "    <tr>\n",
       "      <th>1</th>\n",
       "      <td>30</td>\n",
       "      <td>M</td>\n",
       "      <td>68</td>\n",
       "      <td>207</td>\n",
       "      <td>1749</td>\n",
       "      <td>1715</td>\n",
       "      <td>{'breadth': 35, 'length': 63, 'protrusion': 17}</td>\n",
       "      <td>{'breadth': 100, 'length': 252}</td>\n",
       "      <td>{'breadth': 87, 'length': 184, 'palm': 114}</td>\n",
       "      <td>{'height': 238, 'circumference': 560}</td>\n",
       "    </tr>\n",
       "    <tr>\n",
       "      <th>2</th>\n",
       "      <td>27</td>\n",
       "      <td>M</td>\n",
       "      <td>67</td>\n",
       "      <td>121</td>\n",
       "      <td>1684</td>\n",
       "      <td>1657</td>\n",
       "      <td>{'breadth': 36, 'length': 59, 'protrusion': 24}</td>\n",
       "      <td>{'breadth': 92, 'length': 251}</td>\n",
       "      <td>{'breadth': 84, 'length': 180, 'palm': 103}</td>\n",
       "      <td>{'height': 239, 'circumference': 516}</td>\n",
       "    </tr>\n",
       "    <tr>\n",
       "      <th>3</th>\n",
       "      <td>20</td>\n",
       "      <td>M</td>\n",
       "      <td>73</td>\n",
       "      <td>185</td>\n",
       "      <td>1878</td>\n",
       "      <td>1828</td>\n",
       "      <td>{'breadth': 36, 'length': 60, 'protrusion': 21}</td>\n",
       "      <td>{'breadth': 104, 'length': 280}</td>\n",
       "      <td>{'breadth': 95, 'length': 201, 'palm': 124}</td>\n",
       "      <td>{'height': 270, 'circumference': 582}</td>\n",
       "    </tr>\n",
       "    <tr>\n",
       "      <th>4</th>\n",
       "      <td>33</td>\n",
       "      <td>M</td>\n",
       "      <td>76</td>\n",
       "      <td>150</td>\n",
       "      <td>1977</td>\n",
       "      <td>1883</td>\n",
       "      <td>{'breadth': 39, 'length': 65, 'protrusion': 27}</td>\n",
       "      <td>{'breadth': 101, 'length': 271}</td>\n",
       "      <td>{'breadth': 90, 'length': 194, 'palm': 113}</td>\n",
       "      <td>{'height': 254, 'circumference': 559}</td>\n",
       "    </tr>\n",
       "  </tbody>\n",
       "</table>\n",
       "</div>"
      ],
      "text/plain": [
       "   age gender  height  weight  span  stature  \\\n",
       "0   18      F      66     135  1699     1645   \n",
       "1   30      M      68     207  1749     1715   \n",
       "2   27      M      67     121  1684     1657   \n",
       "3   20      M      73     185  1878     1828   \n",
       "4   33      M      76     150  1977     1883   \n",
       "\n",
       "                                               ear  \\\n",
       "0  {'breadth': 30, 'length': 61, 'protrusion': 20}   \n",
       "1  {'breadth': 35, 'length': 63, 'protrusion': 17}   \n",
       "2  {'breadth': 36, 'length': 59, 'protrusion': 24}   \n",
       "3  {'breadth': 36, 'length': 60, 'protrusion': 21}   \n",
       "4  {'breadth': 39, 'length': 65, 'protrusion': 27}   \n",
       "\n",
       "                              foot  \\\n",
       "0   {'breadth': 97, 'length': 243}   \n",
       "1  {'breadth': 100, 'length': 252}   \n",
       "2   {'breadth': 92, 'length': 251}   \n",
       "3  {'breadth': 104, 'length': 280}   \n",
       "4  {'breadth': 101, 'length': 271}   \n",
       "\n",
       "                                          hand  \\\n",
       "0  {'breadth': 78, 'length': 182, 'palm': 108}   \n",
       "1  {'breadth': 87, 'length': 184, 'palm': 114}   \n",
       "2  {'breadth': 84, 'length': 180, 'palm': 103}   \n",
       "3  {'breadth': 95, 'length': 201, 'palm': 124}   \n",
       "4  {'breadth': 90, 'length': 194, 'palm': 113}   \n",
       "\n",
       "                                    head  \n",
       "0  {'height': 243, 'circumference': 557}  \n",
       "1  {'height': 238, 'circumference': 560}  \n",
       "2  {'height': 239, 'circumference': 516}  \n",
       "3  {'height': 270, 'circumference': 582}  \n",
       "4  {'height': 254, 'circumference': 559}  "
      ]
     },
     "execution_count": 62,
     "metadata": {},
     "output_type": "execute_result"
    }
   ],
   "source": [
    "# Read into DataFrame\n",
    "ansur_df = pd.DataFrame.from_records(ansur_data)\n",
    "ansur_df.head()"
   ]
  },
  {
   "cell_type": "markdown",
   "metadata": {},
   "source": [
    "\n",
    "# 😓🙄\n",
    "\n",
    "That didn't work too well. We ended up with objects in our columns.\n",
    "\n",
    "Luckily, our `DataFrame` library has a function called [`json_normalize()`](https://pandas.pydata.org/pandas-docs/stable/reference/api/pandas.json_normalize.html) that can help."
   ]
  },
  {
   "cell_type": "code",
   "execution_count": 63,
   "metadata": {},
   "outputs": [
    {
     "data": {
      "text/html": [
       "<div>\n",
       "<style scoped>\n",
       "    .dataframe tbody tr th:only-of-type {\n",
       "        vertical-align: middle;\n",
       "    }\n",
       "\n",
       "    .dataframe tbody tr th {\n",
       "        vertical-align: top;\n",
       "    }\n",
       "\n",
       "    .dataframe thead th {\n",
       "        text-align: right;\n",
       "    }\n",
       "</style>\n",
       "<table border=\"1\" class=\"dataframe\">\n",
       "  <thead>\n",
       "    <tr style=\"text-align: right;\">\n",
       "      <th></th>\n",
       "      <th>age</th>\n",
       "      <th>gender</th>\n",
       "      <th>height</th>\n",
       "      <th>weight</th>\n",
       "      <th>span</th>\n",
       "      <th>stature</th>\n",
       "      <th>ear.breadth</th>\n",
       "      <th>ear.length</th>\n",
       "      <th>ear.protrusion</th>\n",
       "      <th>foot.breadth</th>\n",
       "      <th>foot.length</th>\n",
       "      <th>hand.breadth</th>\n",
       "      <th>hand.length</th>\n",
       "      <th>hand.palm</th>\n",
       "      <th>head.height</th>\n",
       "      <th>head.circumference</th>\n",
       "    </tr>\n",
       "  </thead>\n",
       "  <tbody>\n",
       "    <tr>\n",
       "      <th>0</th>\n",
       "      <td>18</td>\n",
       "      <td>F</td>\n",
       "      <td>66</td>\n",
       "      <td>135</td>\n",
       "      <td>1699</td>\n",
       "      <td>1645</td>\n",
       "      <td>30</td>\n",
       "      <td>61</td>\n",
       "      <td>20</td>\n",
       "      <td>97</td>\n",
       "      <td>243</td>\n",
       "      <td>78</td>\n",
       "      <td>182</td>\n",
       "      <td>108</td>\n",
       "      <td>243</td>\n",
       "      <td>557</td>\n",
       "    </tr>\n",
       "    <tr>\n",
       "      <th>1</th>\n",
       "      <td>30</td>\n",
       "      <td>M</td>\n",
       "      <td>68</td>\n",
       "      <td>207</td>\n",
       "      <td>1749</td>\n",
       "      <td>1715</td>\n",
       "      <td>35</td>\n",
       "      <td>63</td>\n",
       "      <td>17</td>\n",
       "      <td>100</td>\n",
       "      <td>252</td>\n",
       "      <td>87</td>\n",
       "      <td>184</td>\n",
       "      <td>114</td>\n",
       "      <td>238</td>\n",
       "      <td>560</td>\n",
       "    </tr>\n",
       "    <tr>\n",
       "      <th>2</th>\n",
       "      <td>27</td>\n",
       "      <td>M</td>\n",
       "      <td>67</td>\n",
       "      <td>121</td>\n",
       "      <td>1684</td>\n",
       "      <td>1657</td>\n",
       "      <td>36</td>\n",
       "      <td>59</td>\n",
       "      <td>24</td>\n",
       "      <td>92</td>\n",
       "      <td>251</td>\n",
       "      <td>84</td>\n",
       "      <td>180</td>\n",
       "      <td>103</td>\n",
       "      <td>239</td>\n",
       "      <td>516</td>\n",
       "    </tr>\n",
       "    <tr>\n",
       "      <th>3</th>\n",
       "      <td>20</td>\n",
       "      <td>M</td>\n",
       "      <td>73</td>\n",
       "      <td>185</td>\n",
       "      <td>1878</td>\n",
       "      <td>1828</td>\n",
       "      <td>36</td>\n",
       "      <td>60</td>\n",
       "      <td>21</td>\n",
       "      <td>104</td>\n",
       "      <td>280</td>\n",
       "      <td>95</td>\n",
       "      <td>201</td>\n",
       "      <td>124</td>\n",
       "      <td>270</td>\n",
       "      <td>582</td>\n",
       "    </tr>\n",
       "    <tr>\n",
       "      <th>4</th>\n",
       "      <td>33</td>\n",
       "      <td>M</td>\n",
       "      <td>76</td>\n",
       "      <td>150</td>\n",
       "      <td>1977</td>\n",
       "      <td>1883</td>\n",
       "      <td>39</td>\n",
       "      <td>65</td>\n",
       "      <td>27</td>\n",
       "      <td>101</td>\n",
       "      <td>271</td>\n",
       "      <td>90</td>\n",
       "      <td>194</td>\n",
       "      <td>113</td>\n",
       "      <td>254</td>\n",
       "      <td>559</td>\n",
       "    </tr>\n",
       "  </tbody>\n",
       "</table>\n",
       "</div>"
      ],
      "text/plain": [
       "   age gender  height  weight  span  stature  ear.breadth  ear.length  \\\n",
       "0   18      F      66     135  1699     1645           30          61   \n",
       "1   30      M      68     207  1749     1715           35          63   \n",
       "2   27      M      67     121  1684     1657           36          59   \n",
       "3   20      M      73     185  1878     1828           36          60   \n",
       "4   33      M      76     150  1977     1883           39          65   \n",
       "\n",
       "   ear.protrusion  foot.breadth  foot.length  hand.breadth  hand.length  \\\n",
       "0              20            97          243            78          182   \n",
       "1              17           100          252            87          184   \n",
       "2              24            92          251            84          180   \n",
       "3              21           104          280            95          201   \n",
       "4              27           101          271            90          194   \n",
       "\n",
       "   hand.palm  head.height  head.circumference  \n",
       "0        108          243                 557  \n",
       "1        114          238                 560  \n",
       "2        103          239                 516  \n",
       "3        124          270                 582  \n",
       "4        113          254                 559  "
      ]
     },
     "execution_count": 63,
     "metadata": {},
     "output_type": "execute_result"
    }
   ],
   "source": [
    "# Read into DataFrame\n",
    "ansur_df = pd.json_normalize(ansur_data)\n",
    "ansur_df.head()"
   ]
  },
  {
   "cell_type": "markdown",
   "metadata": {},
   "source": [
    "Much better. `DataFrames` are magic.\n",
    "\n",
    "#### Data Exploration\n",
    "\n",
    "Before we start creating models, let's do a little bit of data analysis and get a feeling for the shapes, distributions and relationships of our data.\n",
    "\n",
    "1. Print `min`, `max` and `average` values for all of the features.\n",
    "2. Print `covariance` tables for `age`, `ear.length` and `head.circumference`.\n",
    "3. Plot `age`, `ear.length` and `head.circumference` versus the $1$ *feature* that is most correlated to each of them.\n",
    "\n",
    "Don't forget to *encode* and *normalize* the data."
   ]
  },
  {
   "cell_type": "code",
   "execution_count": 64,
   "metadata": {},
   "outputs": [
    {
     "name": "stdout",
     "output_type": "stream",
     "text": [
      "                         age    height    weight      span   stature  \\\n",
      "age                 1.000179  0.029467  0.217017  0.064304  0.037972   \n",
      "height              0.029467  1.000179  0.659590  0.869103  0.959988   \n",
      "weight              0.217017  0.659590  1.000179  0.662828  0.682587   \n",
      "span                0.064304  0.869103  0.662828  1.000179  0.899400   \n",
      "stature             0.037972  0.959988  0.682587  0.899400  1.000179   \n",
      "ear.breadth         0.187740  0.355310  0.361981  0.348283  0.365847   \n",
      "ear.length          0.292098  0.421910  0.487481  0.401564  0.438604   \n",
      "ear.protrusion     -0.009254  0.283853  0.242281  0.268229  0.289324   \n",
      "foot.breadth        0.064993  0.662081  0.708759  0.681016  0.677517   \n",
      "foot.length         0.048699  0.820186  0.688228  0.862806  0.844233   \n",
      "hand.breadth        0.133830  0.712196  0.710663  0.731574  0.727613   \n",
      "hand.length         0.104642  0.736264  0.599894  0.844382  0.761877   \n",
      "hand.palm           0.120726  0.695159  0.591608  0.796280  0.720473   \n",
      "head.height         0.038637  0.554231  0.521809  0.536677  0.577022   \n",
      "head.circumference  0.014044  0.439234  0.540160  0.476903  0.462999   \n",
      "gender_M            0.062201  0.656634  0.562369  0.648306  0.663334   \n",
      "\n",
      "                    ear.breadth  ear.length  ear.protrusion  foot.breadth  \\\n",
      "age                    0.187740    0.292098       -0.009254      0.064993   \n",
      "height                 0.355310    0.421910        0.283853      0.662081   \n",
      "weight                 0.361981    0.487481        0.242281      0.708759   \n",
      "span                   0.348283    0.401564        0.268229      0.681016   \n",
      "stature                0.365847    0.438604        0.289324      0.677517   \n",
      "ear.breadth            1.000179    0.454968        0.240675      0.367536   \n",
      "ear.length             0.454968    1.000179        0.382646      0.436241   \n",
      "ear.protrusion         0.240675    0.382646        1.000179      0.294336   \n",
      "foot.breadth           0.367536    0.436241        0.294336      1.000179   \n",
      "foot.length            0.385165    0.419030        0.279865      0.759427   \n",
      "hand.breadth           0.415684    0.465829        0.316847      0.789143   \n",
      "hand.length            0.341742    0.335176        0.194417      0.661091   \n",
      "hand.palm              0.293001    0.341726        0.204587      0.639648   \n",
      "head.height            0.277395    0.384718        0.273468      0.547463   \n",
      "head.circumference     0.221058    0.283878        0.124790      0.492590   \n",
      "gender_M               0.410499    0.463540        0.413054      0.641221   \n",
      "\n",
      "                    foot.length  hand.breadth  hand.length  hand.palm  \\\n",
      "age                    0.048699      0.133830     0.104642   0.120726   \n",
      "height                 0.820186      0.712196     0.736264   0.695159   \n",
      "weight                 0.688228      0.710663     0.599894   0.591608   \n",
      "span                   0.862806      0.731574     0.844382   0.796280   \n",
      "stature                0.844233      0.727613     0.761877   0.720473   \n",
      "ear.breadth            0.385165      0.415684     0.341742   0.293001   \n",
      "ear.length             0.419030      0.465829     0.335176   0.341726   \n",
      "ear.protrusion         0.279865      0.316847     0.194417   0.204587   \n",
      "foot.breadth           0.759427      0.789143     0.661091   0.639648   \n",
      "foot.length            1.000179      0.770189     0.842393   0.797695   \n",
      "hand.breadth           0.770189      1.000179     0.702081   0.656726   \n",
      "hand.length            0.842393      0.702081     1.000179   0.857498   \n",
      "hand.palm              0.797695      0.656726     0.857498   1.000179   \n",
      "head.height            0.574766      0.550693     0.484858   0.485900   \n",
      "head.circumference     0.501324      0.466310     0.464342   0.451345   \n",
      "gender_M               0.669078      0.746050     0.495310   0.508053   \n",
      "\n",
      "                    head.height  head.circumference  gender_M  \n",
      "age                    0.038637            0.014044  0.062201  \n",
      "height                 0.554231            0.439234  0.656634  \n",
      "weight                 0.521809            0.540160  0.562369  \n",
      "span                   0.536677            0.476903  0.648306  \n",
      "stature                0.577022            0.462999  0.663334  \n",
      "ear.breadth            0.277395            0.221058  0.410499  \n",
      "ear.length             0.384718            0.283878  0.463540  \n",
      "ear.protrusion         0.273468            0.124790  0.413054  \n",
      "foot.breadth           0.547463            0.492590  0.641221  \n",
      "foot.length            0.574766            0.501324  0.669078  \n",
      "hand.breadth           0.550693            0.466310  0.746050  \n",
      "hand.length            0.484858            0.464342  0.495310  \n",
      "hand.palm              0.485900            0.451345  0.508053  \n",
      "head.height            1.000179            0.546534  0.559495  \n",
      "head.circumference     0.546534            1.000179  0.339537  \n",
      "gender_M               0.559495            0.339537  1.000179  \n",
      "AGE\n",
      "age             1.000179\n",
      "ear.length      0.292098\n",
      "weight          0.217017\n",
      "ear.breadth     0.187740\n",
      "hand.breadth    0.133830\n",
      "Name: age, dtype: float64\n",
      "-----\n",
      "EAR LENGTH\n",
      "ear.length      1.000179\n",
      "weight          0.487481\n",
      "hand.breadth    0.465829\n",
      "gender_M        0.463540\n",
      "ear.breadth     0.454968\n",
      "Name: ear.length, dtype: float64\n",
      "-----\n",
      "HEAD CIRCUMFERENCE\n",
      "head.circumference    1.000179\n",
      "head.height           0.546534\n",
      "weight                0.540160\n",
      "foot.length           0.501324\n",
      "foot.breadth          0.492590\n",
      "Name: head.circumference, dtype: float64\n"
     ]
    }
   ],
   "source": [
    "# Work on Data Exploration here\n",
    "\n",
    "### Encode non-numerical features\n",
    "ansur_df = pd.get_dummies(ansur_df, columns=['gender'], drop_first=True) # Use dummy variable instead of ordinary variable because gender does not have order\n",
    "\n",
    "## 1. Print min, max, avg\n",
    "ansur_df.describe()\n",
    "\n",
    "### Normalize all data\n",
    "ansur_scaler = StandardScaler()\n",
    "ansur_scaled = ansur_scaler.fit_transform(ansur_df)\n",
    "\n",
    "## 2. Print Covariances\n",
    "cov_matrix = ansur_scaled.cov()\n",
    "print(cov_matrix)\n",
    "\n",
    "## 3. Plot features most correlated to age, ear length and head circumference\n",
    "print('AGE')\n",
    "print(cov_matrix[\"age\"].sort_values(ascending=False)[:5])\n",
    "print('-----')\n",
    "print('EAR LENGTH')\n",
    "print(cov_matrix[\"ear.length\"].sort_values(ascending=False)[:5])\n",
    "print('-----')\n",
    "print('HEAD CIRCUMFERENCE')\n",
    "print(cov_matrix[\"head.circumference\"].sort_values(ascending=False)[0:5])"
   ]
  },
  {
   "cell_type": "markdown",
   "metadata": {},
   "source": [
    "### Interpretation\n",
    "\n",
    "<span style=\"color:hotpink;\">\n",
    "Does anything stand out about these graphs? Or the correlations?<br>\n",
    "Are correlations symmetric? Does the feature most correlated to ear length also have ear length as its most correlated pair?\n",
    "</span>"
   ]
  },
  {
   "cell_type": "markdown",
   "metadata": {
    "tags": [
     "work_cell"
    ]
   },
   "source": [
    "- Since the features are standardized, we can see the covariance as if we were looking at a matrix of correlation coefficients, which surprised me.\n",
    "- The correlations are symmetric and each variable has a covariance of 1.00 when paired with itself."
   ]
  },
  {
   "cell_type": "markdown",
   "metadata": {},
   "source": [
    "### Regression\n",
    "\n",
    "Now, we want to create a regression model to predict `head.circumference` from the data.\n",
    "\n",
    "From our [Week 06](https://github.com/PSAM-5020-2025S-A/WK06) notebook, we can create a regression model by following these steps:\n",
    "\n",
    "1. Load dataset (done! 🎉)\n",
    "2. Encode label features as numbers (done! ⚡️)\n",
    "3. Normalize the data (done! 🍾)\n",
    "4. Separate the outcome variable and the input features\n",
    "5. Create a regression model using all features\n",
    "6. Run model on training data and measure error\n",
    "7. Plot predictions and interpret results\n",
    "8. Run model on test data, measure error, plot predictions, interpret results"
   ]
  },
  {
   "cell_type": "code",
   "execution_count": 70,
   "metadata": {
    "tags": [
     "work_cell"
    ]
   },
   "outputs": [
    {
     "name": "stdout",
     "output_type": "stream",
     "text": [
      "13.910571985204234\n"
     ]
    },
    {
     "data": {
      "image/png": "[encoded data removed]",
      "text/plain": [
       "<Figure size 640x480 with 1 Axes>"
      ]
     },
     "metadata": {},
     "output_type": "display_data"
    }
   ],
   "source": [
    "# Work on Regression Model here\n",
    "ansur_scaler = StandardScaler()\n",
    "ansur_scaled = ansur_scaler.fit_transform(ansur_df)\n",
    "\n",
    "## Separate outcome variable and input features\n",
    "head_circumference_scaled = ansur_scaled[\"head.circumference\"]\n",
    "ansur_features_scaled = ansur_scaled.drop(columns=['head.circumference'])\n",
    "\n",
    "## Create a regression model\n",
    "head_circum_model = LinearRegression()\n",
    "head_circum_model.fit(ansur_features_scaled, head_circumference_scaled)\n",
    "predicted_scaled = head_circum_model.predict(ansur_features_scaled)\n",
    "predicted = ansur_scaler.inverse_transform(predicted_scaled)\n",
    "\n",
    "## Measure error on training data\n",
    "head_circum_original = ansur_df[\"head.circumference\"]\n",
    "head_circum_predicted = predicted[\"head.circumference\"]\n",
    "print(regression_error(head_circum_original, head_circum_predicted))\n",
    "\n",
    "## Plot predictions and interpret results\n",
    "plt.plot(sorted(head_circum_original), marker='o', linestyle='', alpha=0.3)\n",
    "plt.plot(sorted(head_circum_predicted), color='r', marker='o', markersize='3', linestyle='', alpha=0.1)\n",
    "plt.ylabel(\"predicted\")\n",
    "plt.xlabel(\"original\")\n",
    "plt.show()"
   ]
  },
  {
   "cell_type": "code",
   "execution_count": 66,
   "metadata": {},
   "outputs": [],
   "source": [
    "## Load Test Data\n",
    "ANSUR_TEST_FILE = \"https://raw.githubusercontent.com/PSAM-5020-2025S-A/5020-utils/main/datasets/json/ansur-test.json\"\n",
    "\n",
    "ansur_test_data = object_from_json_url(ANSUR_TEST_FILE)\n",
    "ansur_test_df = pd.json_normalize(ansur_test_data)\n",
    "ansur_test_encoded_df = ansur_test_df.copy()\n",
    "\n",
    "# Reindex\n",
    "ansur_test_encoded_df = pd.get_dummies(ansur_test_df, columns=['gender'], drop_first=True)\n",
    "ansur_test_encoded_df = ansur_test_encoded_df.reindex(columns=ansur_scaler.columns, fill_value=0)\n",
    "ansur_test_scaled_df = ansur_scaler.transform(ansur_test_encoded_df)"
   ]
  },
  {
   "cell_type": "code",
   "execution_count": 67,
   "metadata": {
    "tags": [
     "work_cell"
    ]
   },
   "outputs": [
    {
     "name": "stdout",
     "output_type": "stream",
     "text": [
      "14.473238058423496\n"
     ]
    },
    {
     "data": {
      "image/png": "[encoded data removed]",
      "text/plain": [
       "<Figure size 640x480 with 1 Axes>"
      ]
     },
     "metadata": {},
     "output_type": "display_data"
    }
   ],
   "source": [
    "## Run model on test data\n",
    "ansur_test_features = ansur_test_scaled_df.drop(columns=['head.circumference'])\n",
    "predicted_test_scaled = head_circum_model.predict(ansur_test_features)\n",
    "predicted = ansur_scaler.inverse_transform(predicted_test_scaled)\n",
    "\n",
    "## Plot predictions and interpret results\n",
    "head_circum_original = ansur_test_df[\"head.circumference\"]\n",
    "head_circum_predicted = predicted[\"head.circumference\"]\n",
    "\n",
    "## Measure error on test data\n",
    "print(regression_error(head_circum_original, head_circum_predicted))\n",
    "\n",
    "# Plot the original and predicted prices\n",
    "plt.plot(sorted(head_circum_original), marker='o', linestyle='', alpha=0.3)\n",
    "plt.plot(sorted(head_circum_predicted), color='r', marker='o', markersize='3', linestyle='', alpha=0.1)\n",
    "plt.ylabel(\"predicted\")\n",
    "plt.xlabel(\"original\")\n",
    "plt.show()"
   ]
  },
  {
   "cell_type": "markdown",
   "metadata": {},
   "source": [
    "### Interpretation\n",
    "\n",
    "<span style=\"color:hotpink;\">\n",
    "How well does your model perform?<br>\n",
    "How could you improve it?<br>\n",
    "Are there ranges of circumferences that don't get predicted well?\n",
    "</span>"
   ]
  },
  {
   "cell_type": "markdown",
   "metadata": {
    "tags": [
     "work_cell"
    ]
   },
   "source": [
    "<span style=\"color:hotpink;\">EDIT THIS CELL WITH ANSWER</span>"
   ]
  },
  {
   "cell_type": "code",
   "execution_count": 68,
   "metadata": {},
   "outputs": [
    {
     "name": "stdout",
     "output_type": "stream",
     "text": [
      "12.62683632312452\n"
     ]
    },
    {
     "data": {
      "image/png": "[encoded data removed]",
      "text/plain": [
       "<Figure size 640x480 with 1 Axes>"
      ]
     },
     "metadata": {},
     "output_type": "display_data"
    }
   ],
   "source": [
    "from data_utils import PolynomialFeatures\n",
    "\n",
    "# make polynominal feature\n",
    "poly = PolynomialFeatures(degree=3, include_bias=False)\n",
    "features_poly = poly.fit_transform(ansur_features_scaled)\n",
    "\n",
    "# create model\n",
    "retry_head_circum_model = LinearRegression()\n",
    "retry_head_circum_model.fit(features_poly, head_circumference_scaled)\n",
    "\n",
    "predicted_test_scaled = retry_head_circum_model.predict(features_poly)\n",
    "predicted = ansur_scaler.inverse_transform(predicted_test_scaled)\n",
    "\n",
    "## Plot predictions and interpret results\n",
    "head_circum_original = ansur_df[\"head.circumference\"]\n",
    "head_circum_predicted = predicted[\"head.circumference\"]\n",
    "print(regression_error(head_circum_original, head_circum_predicted))\n",
    "\n",
    "## Plot predictions and interpret results\n",
    "plt.plot(sorted(head_circum_original), marker='o', markersize='3', linestyle='', alpha=0.3)\n",
    "plt.plot(sorted(head_circum_predicted), color='r', marker='o', markersize='3', linestyle='', alpha=0.1)\n",
    "plt.ylabel(\"predicted\")\n",
    "plt.xlabel(\"original\")\n",
    "plt.show()"
   ]
  }
 ],
 "metadata": {
  "colab": {
   "authorship_tag": "ABX9TyPxe2qYxIG7EblrvD1C4Pmv",
   "provenance": []
  },
  "kernelspec": {
   "display_name": "Python 3",
   "language": "python",
   "name": "python3"
  },
  "language_info": {
   "codemirror_mode": {
    "name": "ipython",
    "version": 3
   },
   "file_extension": ".py",
   "mimetype": "text/x-python",
   "name": "python",
   "nbconvert_exporter": "python",
   "pygments_lexer": "ipython3",
   "version": "3.10.16"
  }
 },
 "nbformat": 4,
 "nbformat_minor": 0
}
